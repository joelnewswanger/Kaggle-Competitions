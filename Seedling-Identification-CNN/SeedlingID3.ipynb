{
 "cells": [
  {
   "cell_type": "markdown",
   "metadata": {},
   "source": [
    "### Implementing improved pre-processing"
   ]
  },
  {
   "cell_type": "code",
   "execution_count": 1,
   "metadata": {},
   "outputs": [
    {
     "name": "stderr",
     "output_type": "stream",
     "text": [
      "Using TensorFlow backend.\n"
     ]
    }
   ],
   "source": [
    "import os\n",
    "import pandas\n",
    "import numpy\n",
    "from keras.preprocessing import image\n",
    "from keras.models import Sequential\n",
    "from keras.layers import Conv2D, MaxPooling2D, GlobalAveragePooling2D\n",
    "from keras.layers import Activation, Dropout, Flatten, Dense, Average, Input, Lambda\n",
    "from tqdm import tqdm\n",
    "from keras.callbacks import ModelCheckpoint\n",
    "from keras.utils import np_utils\n",
    "from random import randint\n",
    "from keras.applications.inception_resnet_v2 import InceptionResNetV2\n",
    "from keras.applications.inception_v3 import InceptionV3\n",
    "from keras.applications.xception import Xception\n",
    "from keras.applications.resnet50 import ResNet50\n",
    "from keras.models import Model\n",
    "from keras.optimizers import SGD"
   ]
  },
  {
   "cell_type": "code",
   "execution_count": 2,
   "metadata": {},
   "outputs": [],
   "source": [
    "dataDir = '/home/joel/Documents/KaggleComps/SeedlingId/'\n",
    "trainDir = os.path.join(dataDir, 'train')\n",
    "valDir = os.path.join(dataDir, 'validate')\n",
    "testDir = os.path.join(dataDir, 'test')\n",
    "sampleSub = pandas.read_csv(os.path.join(dataDir, 'sample_submission.csv'))"
   ]
  },
  {
   "cell_type": "code",
   "execution_count": 3,
   "metadata": {},
   "outputs": [],
   "source": [
    "categories = ['Black-grass', 'Charlock', 'Cleavers', 'Common Chickweed', 'Common wheat', 'Fat Hen', 'Loose Silky-bent',\n",
    "              'Maize', 'Scentless Mayweed', 'Shepherds Purse', 'Small-flowered Cranesbill', 'Sugar beet']\n",
    "weeds = ['Black-grass', 'Charlock', 'Cleavers', 'Common Chickweed', 'Fat Hen', 'Loose Silky-bent',\n",
    "         'Scentless Mayweed', 'Shepherds Purse', 'Small-flowered Cranesbill']\n",
    "crops = ['Common wheat', 'Maize', 'Sugar beet']"
   ]
  },
  {
   "cell_type": "code",
   "execution_count": 7,
   "metadata": {},
   "outputs": [],
   "source": [
    "trainGenerator=image.ImageDataGenerator(\n",
    "        shear_range=0.2, zoom_range=0.2,\n",
    "        horizontal_flip=True)\n",
    "testGenerator=image.ImageDataGenerator()"
   ]
  },
  {
   "cell_type": "code",
   "execution_count": 12,
   "metadata": {},
   "outputs": [
    {
     "name": "stdout",
     "output_type": "stream",
     "text": [
      "_________________________________________________________________\n",
      "Layer (type)                 Output Shape              Param #   \n",
      "=================================================================\n",
      "lambda_5 (Lambda)            (None, 250, 250, 3)       0         \n",
      "_________________________________________________________________\n",
      "conv2d_16 (Conv2D)           (None, 250, 250, 16)      448       \n",
      "_________________________________________________________________\n",
      "max_pooling2d_16 (MaxPooling (None, 125, 125, 16)      0         \n",
      "_________________________________________________________________\n",
      "conv2d_17 (Conv2D)           (None, 125, 125, 32)      4640      \n",
      "_________________________________________________________________\n",
      "max_pooling2d_17 (MaxPooling (None, 62, 62, 32)        0         \n",
      "_________________________________________________________________\n",
      "conv2d_18 (Conv2D)           (None, 62, 62, 64)        18496     \n",
      "_________________________________________________________________\n",
      "max_pooling2d_18 (MaxPooling (None, 31, 31, 64)        0         \n",
      "_________________________________________________________________\n",
      "flatten_5 (Flatten)          (None, 61504)             0         \n",
      "_________________________________________________________________\n",
      "dense_5 (Dense)              (None, 12)                738060    \n",
      "_________________________________________________________________\n",
      "activation_5 (Activation)    (None, 12)                0         \n",
      "=================================================================\n",
      "Total params: 761,644\n",
      "Trainable params: 761,644\n",
      "Non-trainable params: 0\n",
      "_________________________________________________________________\n"
     ]
    }
   ],
   "source": [
    "size = (250,250,3)\n",
    "\n",
    "model = Sequential()\n",
    "model.add(Lambda(lambda x: (x / 255.0) - 0.5, input_shape=(size))) # Added Normalization and centering.\n",
    "model.add(Conv2D(16, 3, padding='same', activation='relu'))\n",
    "model.add(MaxPooling2D())\n",
    "model.add(Conv2D(32, 3, padding='same', activation='relu'))\n",
    "model.add(MaxPooling2D())\n",
    "model.add(Conv2D(64, 3, padding='same', activation='relu'))\n",
    "model.add(MaxPooling2D())\n",
    "model.add(Flatten())\n",
    "model.add(Dense(12))\n",
    "model.add(Activation('softmax'))\n",
    "\n",
    "model.compile(optimizer='rmsprop', loss='categorical_crossentropy', metrics=['accuracy'])\n",
    "model.summary()"
   ]
  },
  {
   "cell_type": "code",
   "execution_count": null,
   "metadata": {},
   "outputs": [],
   "source": [
    "checkpointer = ModelCheckpoint(filepath='weights/rgbNorm{}.hdf5'.format(size[0]), verbose=1, save_best_only=True)\n",
    "\n",
    "model.fit_generator(trainGenerator.flow_from_directory(trainDir, target_size=size[:2], batch_size=20),\n",
    "                    epochs=20, validation_data=testGenerator.flow_from_directory(valDir, target_size=size[:2],\n",
    "                                                                                 batch_size=20),\n",
    "                    callbacks=[checkpointer], verbose=1)"
   ]
  },
  {
   "cell_type": "markdown",
   "metadata": {},
   "source": [
    "Benchmark CNN validation accuracy improved from 75% to 80%."
   ]
  },
  {
   "cell_type": "code",
   "execution_count": null,
   "metadata": {},
   "outputs": [],
   "source": [
    "size = (299,299,3)\n",
    "inp = Input(size)\n",
    "norm = Lambda(lambda x: (x / 255.0) - 0.5)(inp)  # Added normalization and centering.\n",
    "IRmodel = InceptionResNetV2(include_top=False, weights='imagenet', input_tensor=norm)\n",
    "\n",
    "for layer in IRmodel.layers[:618]:\n",
    "   layer.trainable = False\n",
    "for layer in IRmodel.layers[618:]:\n",
    "   layer.trainable = True\n",
    "\n",
    "x=IRmodel.output\n",
    "x = GlobalAveragePooling2D()(x)\n",
    "x = Dense(122, activation='tanh')(x)\n",
    "x = Dropout(.5)(x)\n",
    "predictions = Dense(12, activation='softmax')(x)\n",
    "\n",
    "IRmodel = Model(inputs=inp, outputs=predictions)\n",
    "\n",
    "IRmodel.compile(optimizer=SGD(lr=0.0005, momentum=0.9), loss='categorical_crossentropy', metrics=['accuracy'])\n",
    "\n",
    "checkpointer = ModelCheckpoint(filepath='weights/IRmodelNORM{}.hdf5'.format(size[0]), verbose=1, save_best_only=True)\n",
    "\n",
    "IRmodel.fit_generator(trainGenerator.flow_from_directory(trainDir, target_size=size[:2], batch_size=20), epochs=20,\n",
    "                      validation_data=testGenerator.flow_from_directory(valDir, target_size=size[:2], batch_size=20),\n",
    "                      callbacks=[checkpointer], verbose=1)"
   ]
  }
 ],
 "metadata": {
  "kernelspec": {
   "display_name": "Python 3",
   "language": "python",
   "name": "python3"
  },
  "language_info": {
   "codemirror_mode": {
    "name": "ipython",
    "version": 3
   },
   "file_extension": ".py",
   "mimetype": "text/x-python",
   "name": "python",
   "nbconvert_exporter": "python",
   "pygments_lexer": "ipython3",
   "version": "3.5.2"
  }
 },
 "nbformat": 4,
 "nbformat_minor": 2
}
